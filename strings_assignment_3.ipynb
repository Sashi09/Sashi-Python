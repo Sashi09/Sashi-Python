{
  "nbformat": 4,
  "nbformat_minor": 0,
  "metadata": {
    "colab": {
      "provenance": [],
      "include_colab_link": true
    },
    "kernelspec": {
      "name": "python3",
      "display_name": "Python 3"
    },
    "language_info": {
      "name": "python"
    }
  },
  "cells": [
    {
      "cell_type": "markdown",
      "metadata": {
        "id": "view-in-github",
        "colab_type": "text"
      },
      "source": [
        "<a href=\"https://colab.research.google.com/github/Sashi09/Sashi-Python/blob/main/strings_assignment_3.ipynb\" target=\"_parent\"><img src=\"https://colab.research.google.com/assets/colab-badge.svg\" alt=\"Open In Colab\"/></a>"
      ]
    },
    {
      "cell_type": "markdown",
      "source": [
        "1.Write a Python program to count the number of vowels in a string.\n",
        "\n",
        "input : hasdfgeuionhjl"
      ],
      "metadata": {
        "id": "q8RkYTES1QUW"
      }
    },
    {
      "cell_type": "code",
      "source": [
        "input_string = \"hasdfgeuionhjl in a program\"\n",
        "vowels = \"aeiou\"\n",
        "vowel_count = sum(1 for char in input_string if char.lower() in vowels)\n",
        "print(\"Number of vowels:\", vowel_count)"
      ],
      "metadata": {
        "id": "UHi6ezjV1X0s",
        "colab": {
          "base_uri": "https://localhost:8080/"
        },
        "outputId": "763873fd-b2c7-4002-9fcd-7291ab8ace36"
      },
      "execution_count": 1,
      "outputs": [
        {
          "output_type": "stream",
          "name": "stdout",
          "text": [
            "Number of vowels: 9\n"
          ]
        }
      ]
    },
    {
      "cell_type": "markdown",
      "source": [
        "2.Write a Python program to count the occurrences of each word in a sentence.\n",
        "\n",
        "input : hi hello hi and and hi more and more programming"
      ],
      "metadata": {
        "id": "v7GBEK161QWy"
      }
    },
    {
      "cell_type": "code",
      "source": [
        "from collections import Counter\n",
        "input_sentence = \"hi hello hi and and hi more and more programming in a program\"\n",
        "words = input_sentence.split()\n",
        "word_count = Counter(words)\n",
        "print(\"Word occurrences:\", word_count)"
      ],
      "metadata": {
        "id": "R-UzDybK1uZo",
        "colab": {
          "base_uri": "https://localhost:8080/"
        },
        "outputId": "9adf0b94-addb-442c-b16e-9edfcbeee43e"
      },
      "execution_count": 2,
      "outputs": [
        {
          "output_type": "stream",
          "name": "stdout",
          "text": [
            "Word occurrences: Counter({'hi': 3, 'and': 3, 'more': 2, 'hello': 1, 'programming': 1, 'in': 1, 'a': 1, 'program': 1})\n"
          ]
        }
      ]
    },
    {
      "cell_type": "markdown",
      "source": [
        "3.In python how can you differentiate strings and lists. Give atleast 5 different comparisons between them."
      ],
      "metadata": {
        "id": "evCcw-0H1QY9"
      }
    },
    {
      "cell_type": "markdown",
      "source": [
        "String:\n",
        "A string in Python is a sequence of characters enclosed within either single quotes (') or double quotes (\"). It is used to represent textual data, such as words, sentences, or any other form of character-based information.\n",
        "\n",
        "Lists:\n",
        "A String is  a list is an ordered, mutable collection of items that can hold elements of different data types. Lists are created using square brackets [] and can be modified by adding, removing, or changing elements.\n",
        "\n",
        " Comparisions between Strings and Lists:\n",
        "\n",
        "1.Use Cases:\n",
        "\n",
        "String: Used for text manipulation.\n",
        "\n",
        "List: Used for storing collection\n",
        "\n",
        "2.Data Type:\n",
        "\n",
        "String: A sequence of characters (e.g., \"Hello\").\n",
        "\n",
        "List: A collection of items (e.g., [1, 'apple', 3.5]).\n",
        "\n",
        "3.Data Type:\n",
        "\n",
        "String: A sequence of characters (e.g., \"Hello\").\n",
        "\n",
        "List: A collection of items (e.g., [1, 'apple', 3.5]).\n",
        "\n",
        "4.Methods:\n",
        "\n",
        "String: Has methods like upper(), lower(), and replace().\n",
        "\n",
        "List: Has methods like append(), remove(), and sort().\n",
        "\n",
        "5.Indexing:\n",
        "\n",
        "String: Slicing returns substrings (e.g., \"Hello\"[0:2] gives \"He\").\n",
        "\n",
        "List: Slicing returns sublists (e.g., [1, 2, 3][1:3] gives [2, 3]).\n"
      ],
      "metadata": {
        "id": "OfiTI0pv1QbU"
      }
    },
    {
      "cell_type": "markdown",
      "source": [
        "4.Write a string for your own of approximately 40 in length and perform any 5 different string operations on that."
      ],
      "metadata": {
        "id": "riR1PWxG1Qdq"
      }
    },
    {
      "cell_type": "code",
      "source": [
        "my_string = \"Python programming is fun and educational\"\n",
        "upper_case_string = my_string.upper()\n",
        "fun_index = my_string.find('fun')\n",
        "replaced_string = my_string.replace('fun', 'awesome')\n",
        "words_list = my_string.split()\n",
        "starts_with_python = my_string.startswith('Python')\n",
        "print(\"Original String:\", my_string)\n",
        "print(\"Uppercase String:\", upper_case_string)\n",
        "print(\"Index of 'fun':\", fun_index)\n",
        "print(\"String after replacement:\", replaced_string)\n",
        "print(\"List of words:\", words_list)\n",
        "print(\"Does the string start with 'Python'?:\", starts_with_python)"
      ],
      "metadata": {
        "id": "3bHyrDS12e8i",
        "colab": {
          "base_uri": "https://localhost:8080/"
        },
        "outputId": "77a2fabe-0b9d-4cbb-d128-42902417a0e5"
      },
      "execution_count": 3,
      "outputs": [
        {
          "output_type": "stream",
          "name": "stdout",
          "text": [
            "Original String: Python programming is fun and educational\n",
            "Uppercase String: PYTHON PROGRAMMING IS FUN AND EDUCATIONAL\n",
            "Index of 'fun': 22\n",
            "String after replacement: Python programming is awesome and educational\n",
            "List of words: ['Python', 'programming', 'is', 'fun', 'and', 'educational']\n",
            "Does the string start with 'Python'?: True\n"
          ]
        }
      ]
    },
    {
      "cell_type": "markdown",
      "source": [
        "5.Explain the concatination in strings with a neat example."
      ],
      "metadata": {
        "id": "bbUm7VVN1Qfu"
      }
    },
    {
      "cell_type": "markdown",
      "source": [
        "\n",
        "String Concatenation refers to the process of joining two or more strings together to form a new string. In Python, you can concatenate strings using the + operator or the .join() method."
      ],
      "metadata": {
        "id": "y9292Q452tF0"
      }
    },
    {
      "cell_type": "code",
      "source": [
        "string1 = \"Hello\"\n",
        "string2 = \" \"\n",
        "string3 = \"World\"\n",
        "concatenated_string = string1 + string2 + string3\n",
        "print(\"Concatenated String:\", concatenated_string)\n",
        "strings = [\"Hello\", \" \", \"World\"]\n",
        "joined_string = \"\".join(strings)\n",
        "print(\"Joined String using .join():\", joined_string)\n",
        "string1 = \"Hello\"\n",
        "string2 = \" \"\n",
        "string3 = \"World\"\n",
        "concatenated_string = string1 + string2 + string3\n",
        "print(\"Concatenated String:\", concatenated_string)\n",
        "strings = [\"Hello\", \" \", \"World\"]\n",
        "joined_string = \"\".join(strings)\n",
        "print(\"Joined String using .join():\", joined_string)"
      ],
      "metadata": {
        "id": "vnMNtJgq2xuG",
        "colab": {
          "base_uri": "https://localhost:8080/"
        },
        "outputId": "c730eeed-58a7-4fda-d631-4eb6469ced8d"
      },
      "execution_count": 9,
      "outputs": [
        {
          "output_type": "stream",
          "name": "stdout",
          "text": [
            "Concatenated String: Hello World\n",
            "Joined String using .join(): Hello World\n",
            "Concatenated String: Hello World\n",
            "Joined String using .join(): Hello World\n"
          ]
        }
      ]
    }
  ]
}