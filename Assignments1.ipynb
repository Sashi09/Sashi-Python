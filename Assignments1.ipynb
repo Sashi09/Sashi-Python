{
  "cells": [
    {
      "cell_type": "markdown",
      "metadata": {
        "id": "view-in-github",
        "colab_type": "text"
      },
      "source": [
        "<a href=\"https://colab.research.google.com/github/Sashi09/Sashi-Python/blob/main/Assignments1.ipynb\" target=\"_parent\"><img src=\"https://colab.research.google.com/assets/colab-badge.svg\" alt=\"Open In Colab\"/></a>"
      ]
    },
    {
      "cell_type": "code",
      "execution_count": 1,
      "metadata": {
        "id": "H0RauoLdPQXW"
      },
      "outputs": [],
      "source": [
        "#Consider the string given below and answer the following questions\n",
        "string = \"OQYWFClFhFGAvIWYwGKpmZhnJiyzTslSIhSwvOsqJMEphzmifTkyqOMNpnOtXZxmCfgDYqbaBHAUvIWhMnvwZnEMVDvmEfLrDoQnAZgQEgXQVnmSYkfedpAdhrtpOgORpYLRZYGWdhWYuqQssCUXtTzKRDAhpjUheOzUroZNzWFtZOVwIapzUYtbSbjYNErzQ\"\n"
      ]
    },
    {
      "cell_type": "markdown",
      "metadata": {
        "id": "7z2zLtdVPQXX"
      },
      "source": [
        "####  Calculate the number of characters in the string\n",
        "\n",
        "-  193\n",
        "-  200\n",
        "-  300\n",
        "-  500\n"
      ]
    },
    {
      "cell_type": "code",
      "execution_count": 2,
      "metadata": {
        "id": "t5KT5MtaPQXY"
      },
      "outputs": [],
      "source": [
        "string = \"OQYWFClFhFGAvIWYwGKpmZhnJiyzTslSIhSwvOsqJMEphzmifTkyqOMNpnOtXZxmCfgDYqbaBHAUvIWhMnvwZnEMVDvmEfLrDoQnAZgQEgXQVnmSYkfedpAdhrtpOgORpYLRZYGWdhWYuqQssCUXtTzKRDAhpjUheOzUroZNzWFtZOVwIapzUYtbSbjYNErzQ\""
      ]
    },
    {
      "cell_type": "markdown",
      "metadata": {
        "id": "MlhDq0QOPQXY"
      },
      "source": [
        "#### Count the number of occurences of 'a' in the string\n",
        "\n",
        "-  1\n",
        "-  2\n",
        "-  10\n",
        "-  5"
      ]
    },
    {
      "cell_type": "code",
      "execution_count": 3,
      "metadata": {
        "id": "mVK_IIugPQXZ"
      },
      "outputs": [],
      "source": [
        "string = \"OQYWFClFhFGAvIWYwGKpmZhnJiyzTslSIhSwvOsqJMEphzmifTkyqOMNpnOtXZxmCfgDYqbaBHAUvIWhMnvwZnEMVDvmEfLrDoQnAZgQEgXQVnmSYkfedpAdhrtpOgORpYLRZYGWdhWYuqQssCUXtTzKRDAhpjUheOzUroZNzWFtZOVwIapzUYtbSbjYNErzQ\"\n"
      ]
    },
    {
      "cell_type": "markdown",
      "metadata": {
        "id": "4HHQUPGcPQXZ"
      },
      "source": [
        "#### Identify whether the string starts with 'if'.\n",
        "\n",
        "-  True\n",
        "-  False"
      ]
    },
    {
      "cell_type": "code",
      "execution_count": 4,
      "metadata": {
        "id": "DIuD4UEhPQXZ"
      },
      "outputs": [],
      "source": [
        "string = \"OQYWFClFhFGAvIWYwGKpmZhnJiyzTslSIhSwvOsqJMEphzmifTkyqOMNpnOtXZxmCfgDYqbaBHAUvIWhMnvwZnEMVDvmEfLrDoQnAZgQEgXQVnmSYkfedpAdhrtpOgORpYLRZYGWdhWYuqQssCUXtTzKRDAhpjUheOzUroZNzWFtZOVwIapzUYtbSbjYNErzQ\"\n"
      ]
    },
    {
      "cell_type": "markdown",
      "metadata": {
        "id": "-SqeVX-6PQXZ"
      },
      "source": [
        "#### Return the substring starting at index 63 and ending at index 88  [Both the indexes are inclusive]\n",
        "\n",
        "-  'OQYWFClFhFGA'\n",
        "-  'mCfgDYqbaBHAUvIWhMnvwZnEMV'\n",
        "-  'IWYwGKpmZhnJiyzTslSIhSwv'\n",
        "-  'JMEphzmifTkyqOMNpnOtXZ'"
      ]
    },
    {
      "cell_type": "code",
      "execution_count": 5,
      "metadata": {
        "collapsed": true,
        "id": "rdWgfPMZPQXZ"
      },
      "outputs": [],
      "source": [
        "string = \"OQYWFClFhFGAvIWYwGKpmZhnJiyzTslSIhSwvOsqJMEphzmifTkyqOMNpnOtXZxmCfgDYqbaBHAUvIWhMnvwZnEMVDvmEfLrDoQnAZgQEgXQVnmSYkfedpAdhrtpOgORpYLRZYGWdhWYuqQssCUXtTzKRDAhpjUheOzUroZNzWFtZOVwIapzUYtbSbjYNErzQ\"\n"
      ]
    },
    {
      "cell_type": "markdown",
      "metadata": {
        "id": "07q9C4gRPQXa"
      },
      "source": [
        "#### Identify the character at index 45\n",
        "\n",
        "-  a\n",
        "-  b\n",
        "-  z\n",
        "-  x"
      ]
    },
    {
      "cell_type": "code",
      "execution_count": 6,
      "metadata": {
        "id": "vmQu_HtdPQXa"
      },
      "outputs": [],
      "source": [
        "string = \"OQYWFClFhFGAvIWYwGKpmZhnJiyzTslSIhSwvOsqJMEphzmifTkyqOMNpnOtXZxmCfgDYqbaBHAUvIWhMnvwZnEMVDvmEfLrDoQnAZgQEgXQVnmSYkfedpAdhrtpOgORpYLRZYGWdhWYuqQssCUXtTzKRDAhpjUheOzUroZNzWFtZOVwIapzUYtbSbjYNErzQ\"\n"
      ]
    },
    {
      "cell_type": "markdown",
      "source": [
        "# ***Strings Assignment 2***"
      ],
      "metadata": {
        "id": "LxO4j5A9aNQ9"
      }
    },
    {
      "cell_type": "markdown",
      "source": [
        "1.Write a Python program to reverse a string.\n",
        "\n",
        "input : hellohowareyoudoingandhowisyourhealth"
      ],
      "metadata": {
        "id": "dvQcnnwQanXW"
      }
    },
    {
      "cell_type": "code",
      "source": [
        "input_string = \"hellohowareyoudoingandhowisyourhealth\"\n",
        "reversed_string = input_string[::-1]\n",
        "print(\"Reversed string:\", reversed_string)"
      ],
      "metadata": {
        "colab": {
          "base_uri": "https://localhost:8080/"
        },
        "id": "VPNh6ODKaoZg",
        "outputId": "084c4eae-831f-488b-b93f-83fc482e588e"
      },
      "execution_count": 7,
      "outputs": [
        {
          "output_type": "stream",
          "name": "stdout",
          "text": [
            "Reversed string: htlaehruoysiwohdnagnioduoyerawoholleh\n"
          ]
        }
      ]
    },
    {
      "cell_type": "markdown",
      "source": [
        "2.Write a Python program to capitalize the first letter of each word in a sentence.\n",
        "\n",
        "input : hello welcome to internship"
      ],
      "metadata": {
        "id": "kbfNxgieayxe"
      }
    },
    {
      "cell_type": "code",
      "source": [
        "input_string = \"hello welcome to internship\"\n",
        "capitalized_string = input_string.title()\n",
        "print(\"Capitalized string:\", capitalized_string)"
      ],
      "metadata": {
        "colab": {
          "base_uri": "https://localhost:8080/"
        },
        "id": "_MxaDUkja0PU",
        "outputId": "0be3e025-d964-4fcb-d4d1-c7690d84c82a"
      },
      "execution_count": 8,
      "outputs": [
        {
          "output_type": "stream",
          "name": "stdout",
          "text": [
            "Capitalized string: Hello Welcome To Internship\n"
          ]
        }
      ]
    },
    {
      "cell_type": "code",
      "source": [
        "3.Write a Python program to find the longest word in a sentence.\n",
        "\n",
        "input : \"he is very good at painting and paint good sketches\""
      ],
      "metadata": {
        "id": "ueBs2thRhgbh"
      },
      "execution_count": null,
      "outputs": []
    },
    {
      "cell_type": "code",
      "source": [
        "sentence = \"he is very good at painting and paint good sketches\"\n",
        "words = sentence.split()\n",
        "longest_word = max(words, key=len)\n",
        "print(\"Longest word:\", longest_word)"
      ],
      "metadata": {
        "colab": {
          "base_uri": "https://localhost:8080/"
        },
        "id": "Wgws0sZ9h1m9",
        "outputId": "7be75032-3b2a-4e6d-a3cc-fa73f5cc9609"
      },
      "execution_count": 9,
      "outputs": [
        {
          "output_type": "stream",
          "name": "stdout",
          "text": [
            "Longest word: painting\n"
          ]
        }
      ]
    },
    {
      "cell_type": "markdown",
      "source": [
        "4.Write a Python program to find the length of the last word in a sentence.\n",
        "\n",
        "input : this is the most beautiful beach I ever visited"
      ],
      "metadata": {
        "id": "nhs0sfEkhhkz"
      }
    },
    {
      "cell_type": "code",
      "source": [
        "sentence = \"this is the most beautiful beach I ever visited\"\n",
        "words = sentence.split()\n",
        "length_of_last_word = len(words[-1])\n",
        "print(\"Length of the last word:\", length_of_last_word)"
      ],
      "metadata": {
        "colab": {
          "base_uri": "https://localhost:8080/"
        },
        "id": "NKqG_PMIiBkW",
        "outputId": "19112331-3b27-481c-d5d5-48e9233b9ba7"
      },
      "execution_count": 10,
      "outputs": [
        {
          "output_type": "stream",
          "name": "stdout",
          "text": [
            "Length of the last word: 7\n"
          ]
        }
      ]
    },
    {
      "cell_type": "code",
      "source": [
        "5.Write a Python program to find the second most frequent character in a string.\n",
        "\n",
        "input: the hospital is very big and this hospital has so many doctors"
      ],
      "metadata": {
        "id": "ZMk0O1x_iD5A"
      },
      "execution_count": null,
      "outputs": []
    },
    {
      "cell_type": "code",
      "source": [
        "from collections import Counter\n",
        "input_string = \"the hospital is very big and this hospital has so many doctors\"\n",
        "input_string = input_string.replace(\" \", \"\")\n",
        "char_count = Counter(input_string)\n",
        "sorted_chars = sorted(char_count.items(), key=lambda x: x[1], reverse=True)\n",
        "if len(sorted_chars) > 1:\n",
        "    second_most_frequent = sorted_chars[1][0]\n",
        "    frequency = sorted_chars[1][1]\n",
        "    print(f\"Second most frequent character: '{second_most_frequent}' with frequency {frequency}\")\n",
        "else:\n",
        "    print(\"Not enough distinct characters to determine the second most frequent.\")"
      ],
      "metadata": {
        "colab": {
          "base_uri": "https://localhost:8080/"
        },
        "id": "PWuY0tUmiX2j",
        "outputId": "d93b14ad-a5b1-4fdc-cec5-a526803f148f"
      },
      "execution_count": 11,
      "outputs": [
        {
          "output_type": "stream",
          "name": "stdout",
          "text": [
            "Second most frequent character: 't' with frequency 5\n"
          ]
        }
      ]
    },
    {
      "cell_type": "markdown",
      "source": [
        "# ***Strings Assignment 3***"
      ],
      "metadata": {
        "id": "MpMye4GbjGfg"
      }
    },
    {
      "cell_type": "markdown",
      "source": [
        "1.Write a Python program to count the number of vowels in a string.\n",
        "\n",
        "input : hasdfgeuionhjl"
      ],
      "metadata": {
        "id": "ntuGio1XjaAK"
      }
    },
    {
      "cell_type": "code",
      "source": [
        "input_string = \"hasdfgeuionhjl in a program\"\n",
        "vowels = \"aeiou\"\n",
        "vowel_count = sum(1 for char in input_string if char.lower() in vowels)\n",
        "print(\"Number of vowels:\", vowel_count)"
      ],
      "metadata": {
        "colab": {
          "base_uri": "https://localhost:8080/"
        },
        "id": "omEkxIDQjWKP",
        "outputId": "60bcf890-3131-4d46-d6b0-d61e84baee18"
      },
      "execution_count": 12,
      "outputs": [
        {
          "output_type": "stream",
          "name": "stdout",
          "text": [
            "Number of vowels: 9\n"
          ]
        }
      ]
    },
    {
      "cell_type": "markdown",
      "source": [
        "2.Write a Python program to count the occurrences of each word in a sentence.\n",
        "\n",
        "input : hi hello hi and and hi more and more programming"
      ],
      "metadata": {
        "id": "ZVeNzAaBjiyZ"
      }
    },
    {
      "cell_type": "code",
      "source": [
        "from collections import Counter\n",
        "input_sentence = \"hi hello hi and and hi more and more programming in a program\"\n",
        "words = input_sentence.split()\n",
        "word_count = Counter(words)\n",
        "print(\"Word occurrences:\", word_count)"
      ],
      "metadata": {
        "colab": {
          "base_uri": "https://localhost:8080/"
        },
        "id": "ucfNLIjzjg0h",
        "outputId": "c02aa9d1-9398-432a-ccc9-b1813b5378e0"
      },
      "execution_count": 13,
      "outputs": [
        {
          "output_type": "stream",
          "name": "stdout",
          "text": [
            "Word occurrences: Counter({'hi': 3, 'and': 3, 'more': 2, 'hello': 1, 'programming': 1, 'in': 1, 'a': 1, 'program': 1})\n"
          ]
        }
      ]
    },
    {
      "cell_type": "markdown",
      "source": [
        "3.In python how can you differentiate strings and lists. Give atleast 5 different comparisons between them."
      ],
      "metadata": {
        "id": "ZrYP-LfEj3og"
      }
    },
    {
      "cell_type": "markdown",
      "source": [
        "String: A string in Python is a sequence of characters enclosed within either single quotes (') or double quotes (\"). It is used to represent textual data, such as words, sentences, or any other form of character-based information.\n",
        "\n",
        "Lists: A String is a list is an ordered, mutable collection of items that can hold elements of different data types. Lists are created using square brackets [] and can be modified by adding, removing, or changing elements.\n",
        "\n",
        "Comparisions between Strings and Lists:\n",
        "\n",
        "1.Use Cases:\n",
        "\n",
        "String: Used for text manipulation.\n",
        "\n",
        "List: Used for storing collection\n",
        "\n",
        "2.Data Type:\n",
        "\n",
        "String: A sequence of characters (e.g., \"Hello\").\n",
        "\n",
        "List: A collection of items (e.g., [1, 'apple', 3.5]).\n",
        "\n",
        "3.Data Type:\n",
        "\n",
        "String: A sequence of characters (e.g., \"Hello\").\n",
        "\n",
        "List: A collection of items (e.g., [1, 'apple', 3.5]).\n",
        "\n",
        "4.Methods:\n",
        "\n",
        "String: Has methods like upper(), lower(), and replace().\n",
        "\n",
        "List: Has methods like append(), remove(), and sort().\n",
        "\n",
        "5.Indexing:\n",
        "\n",
        "String: Slicing returns substrings (e.g., \"Hello\"[0:2] gives \"He\").\n",
        "\n",
        "List: Slicing returns sublists (e.g., [1, 2, 3][1:3] gives [2, 3])."
      ],
      "metadata": {
        "id": "suibrrffj-42"
      }
    },
    {
      "cell_type": "markdown",
      "source": [
        "4.Write a string for your own of approximately 40 in length and perform any 5 different string operations on that"
      ],
      "metadata": {
        "id": "-5awiGu2kO9t"
      }
    },
    {
      "cell_type": "code",
      "source": [
        "my_string = \"Python programming is fun and educational\"\n",
        "upper_case_string = my_string.upper()\n",
        "fun_index = my_string.find('fun')\n",
        "replaced_string = my_string.replace('fun', 'awesome')\n",
        "words_list = my_string.split()\n",
        "starts_with_python = my_string.startswith('Python')\n",
        "print(\"Original String:\", my_string)\n",
        "print(\"Uppercase String:\", upper_case_string)\n",
        "print(\"Index of 'fun':\", fun_index)\n",
        "print(\"String after replacement:\", replaced_string)\n",
        "print(\"List of words:\", words_list)\n",
        "print(\"Does the string start with 'Python'?:\", starts_with_python)"
      ],
      "metadata": {
        "colab": {
          "base_uri": "https://localhost:8080/"
        },
        "id": "FO9jWFzUj2ub",
        "outputId": "878ee827-01ee-4edc-8fae-26eb152bb5a2"
      },
      "execution_count": 14,
      "outputs": [
        {
          "output_type": "stream",
          "name": "stdout",
          "text": [
            "Original String: Python programming is fun and educational\n",
            "Uppercase String: PYTHON PROGRAMMING IS FUN AND EDUCATIONAL\n",
            "Index of 'fun': 22\n",
            "String after replacement: Python programming is awesome and educational\n",
            "List of words: ['Python', 'programming', 'is', 'fun', 'and', 'educational']\n",
            "Does the string start with 'Python'?: True\n"
          ]
        }
      ]
    },
    {
      "cell_type": "markdown",
      "source": [
        "5.Explain the concatination in strings with a neat example."
      ],
      "metadata": {
        "id": "SXCkFVzykVT9"
      }
    },
    {
      "cell_type": "code",
      "source": [
        "string1 = \"Hello\"\n",
        "string2 = \" \"\n",
        "string3 = \"World\"\n",
        "concatenated_string = string1 + string2 + string3\n",
        "print(\"Concatenated String:\", concatenated_string)\n",
        "strings = [\"Hello\", \" \", \"World\"]\n",
        "joined_string = \"\".join(strings)\n",
        "print(\"Joined String using .join():\", joined_string)\n",
        "string1 = \"Hello\"\n",
        "string2 = \" \"\n",
        "string3 = \"World\"\n",
        "concatenated_string = string1 + string2 + string3\n",
        "print(\"Concatenated String:\", concatenated_string)\n",
        "strings = [\"Hello\", \" \", \"World\"]\n",
        "joined_string = \"\".join(strings)\n",
        "print(\"Joined String using .join():\", joined_string)"
      ],
      "metadata": {
        "colab": {
          "base_uri": "https://localhost:8080/"
        },
        "id": "3MG2ORRjkTym",
        "outputId": "ffaa2563-d11b-470b-8163-7906e9737b05"
      },
      "execution_count": 15,
      "outputs": [
        {
          "output_type": "stream",
          "name": "stdout",
          "text": [
            "Concatenated String: Hello World\n",
            "Joined String using .join(): Hello World\n",
            "Concatenated String: Hello World\n",
            "Joined String using .join(): Hello World\n"
          ]
        }
      ]
    },
    {
      "cell_type": "markdown",
      "source": [
        "# ***List 2 Assignment***"
      ],
      "metadata": {
        "id": "nQinNh-Xkh9A"
      }
    },
    {
      "cell_type": "markdown",
      "source": [
        "1.Remove empty strings from the list1 of strings\n",
        "\n",
        "list1 = [\"Mike\", \" \", \"Emma\", \"Kelly\", \" \", \"Brad\"]"
      ],
      "metadata": {
        "id": "Eihs5FIrltnP"
      }
    },
    {
      "cell_type": "code",
      "source": [
        "list1 = [\"Mike\", \" \", \"Emma\", \"Kelly\", \" \", \"Brad\"]\n",
        "list1 = [x for x in list1 if x.strip() != \"\"]\n",
        "print(list1)"
      ],
      "metadata": {
        "colab": {
          "base_uri": "https://localhost:8080/"
        },
        "id": "w9moGX68kg1t",
        "outputId": "c8345278-9776-4fd1-c86a-538ecb2edafd"
      },
      "execution_count": 16,
      "outputs": [
        {
          "output_type": "stream",
          "name": "stdout",
          "text": [
            "['Mike', 'Emma', 'Kelly', 'Brad']\n"
          ]
        }
      ]
    },
    {
      "cell_type": "markdown",
      "source": [
        "2.Write a program to add item 7000 after 6000 in the following Python List\n",
        "\n",
        "list1 = [10, 20, [300, 400, [5000, 6000], 500], 30, 40]"
      ],
      "metadata": {
        "id": "FnDYMqgDl1gf"
      }
    },
    {
      "cell_type": "code",
      "source": [
        "list1 = [10, 20, [300, 400, [5000, 6000], 500], 30, 40]\n",
        "list1[2][2].insert(2, 7000)\n",
        "print(list1)"
      ],
      "metadata": {
        "colab": {
          "base_uri": "https://localhost:8080/"
        },
        "id": "0JQOeTtol0Xs",
        "outputId": "9a2a7bfa-3501-405f-ff12-e0f946ea69ff"
      },
      "execution_count": 17,
      "outputs": [
        {
          "output_type": "stream",
          "name": "stdout",
          "text": [
            "[10, 20, [300, 400, [5000, 6000, 7000], 500], 30, 40]\n"
          ]
        }
      ]
    },
    {
      "cell_type": "markdown",
      "source": [
        "3.You have given a Python list. Write a program to find value 20 in the list, and if it is present, replace it with 200. Only update the first occurrence of an item.\n",
        "\n",
        "list1 = [5, 10, 15, 20, 25, 50, 20]"
      ],
      "metadata": {
        "id": "PBSp3bnCmAJd"
      }
    },
    {
      "cell_type": "code",
      "source": [
        "list1 = [5, 10, 15, 20, 25, 50, 20]\n",
        "if 20 in list1:\n",
        "    index = list1.index(20)\n",
        "    list1[index] = 200\n",
        "print(list1)"
      ],
      "metadata": {
        "colab": {
          "base_uri": "https://localhost:8080/"
        },
        "id": "oK42wUQPl-zH",
        "outputId": "8357355c-4ec7-4c44-889c-683e71ed4c85"
      },
      "execution_count": 18,
      "outputs": [
        {
          "output_type": "stream",
          "name": "stdout",
          "text": [
            "[5, 10, 15, 200, 25, 50, 20]\n"
          ]
        }
      ]
    },
    {
      "cell_type": "markdown",
      "source": [
        "4.Remove all occurrences of a specific item from a list. Given a Python list, write a program to remove all occurrences of item 20.\n",
        "\n",
        "list1 = [5, 20, 15, 20, 25, 50, 20]"
      ],
      "metadata": {
        "id": "vAQpMn8OmhPH"
      }
    },
    {
      "cell_type": "code",
      "source": [
        "list1 = [5, 20, 15, 20, 25, 50, 20]\n",
        "list1 = [x for x in list1 if x != 20]\n",
        "print(list1)"
      ],
      "metadata": {
        "colab": {
          "base_uri": "https://localhost:8080/"
        },
        "id": "Ug_RMHxemUtf",
        "outputId": "dd44ec47-9518-4b16-c858-8e7651479427"
      },
      "execution_count": 19,
      "outputs": [
        {
          "output_type": "stream",
          "name": "stdout",
          "text": [
            "[5, 15, 25, 50]\n"
          ]
        }
      ]
    },
    {
      "cell_type": "markdown",
      "source": [
        "5.Concatenate two lists in the following order\n",
        "\n",
        "list1 = [\"Hello \", \"take \"]\n",
        "\n",
        "list2 = [\"Dear\", \"Sir\"]"
      ],
      "metadata": {
        "id": "vrMhV2Hvmycf"
      }
    },
    {
      "cell_type": "code",
      "source": [
        "list1 = [\"Hello \", \"take \"]\n",
        "list2 = [\"Dear\", \"Sir\"]\n",
        "result = [x + y for x in list1 for y in list2]\n",
        "print(result)"
      ],
      "metadata": {
        "colab": {
          "base_uri": "https://localhost:8080/"
        },
        "id": "87_9l4YNmswa",
        "outputId": "aa0188c5-be6c-4bec-bc72-ee0025c0b7f7"
      },
      "execution_count": 20,
      "outputs": [
        {
          "output_type": "stream",
          "name": "stdout",
          "text": [
            "['Hello Dear', 'Hello Sir', 'take Dear', 'take Sir']\n"
          ]
        }
      ]
    }
  ],
  "metadata": {
    "kernelspec": {
      "display_name": "Python 3",
      "language": "python",
      "name": "python3"
    },
    "language_info": {
      "codemirror_mode": {
        "name": "ipython",
        "version": 3
      },
      "file_extension": ".py",
      "mimetype": "text/x-python",
      "name": "python",
      "nbconvert_exporter": "python",
      "pygments_lexer": "ipython3",
      "version": "3.7.3"
    },
    "colab": {
      "provenance": [],
      "include_colab_link": true
    }
  },
  "nbformat": 4,
  "nbformat_minor": 0
}