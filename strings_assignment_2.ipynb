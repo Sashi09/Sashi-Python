{
  "nbformat": 4,
  "nbformat_minor": 0,
  "metadata": {
    "colab": {
      "provenance": [],
      "toc_visible": true,
      "include_colab_link": true
    },
    "kernelspec": {
      "name": "python3",
      "display_name": "Python 3"
    },
    "language_info": {
      "name": "python"
    }
  },
  "cells": [
    {
      "cell_type": "markdown",
      "metadata": {
        "id": "view-in-github",
        "colab_type": "text"
      },
      "source": [
        "<a href=\"https://colab.research.google.com/github/Sashi09/Sashi-Python/blob/main/strings_assignment_2.ipynb\" target=\"_parent\"><img src=\"https://colab.research.google.com/assets/colab-badge.svg\" alt=\"Open In Colab\"/></a>"
      ]
    },
    {
      "cell_type": "markdown",
      "source": [
        "## Strings Assignment 2"
      ],
      "metadata": {
        "id": "EPGLodluvWuN"
      }
    },
    {
      "cell_type": "markdown",
      "source": [
        "1.Write a Python program to reverse a string.\n",
        "\n",
        "input : hellohowareyoudoingandhowisyourhealth"
      ],
      "metadata": {
        "id": "ddM5gMtivkoi"
      }
    },
    {
      "cell_type": "code",
      "source": [
        "input_string = \"hellohowareyoudoingandhowisyourhealth\"\n",
        "reversed_string = input_string[::-1]\n",
        "print(\"Reversed string:\", reversed_string)"
      ],
      "metadata": {
        "id": "RnP576ZZvtLH",
        "colab": {
          "base_uri": "https://localhost:8080/"
        },
        "outputId": "2d3208b6-f354-486f-da6b-79d37106e011"
      },
      "execution_count": 2,
      "outputs": [
        {
          "output_type": "stream",
          "name": "stdout",
          "text": [
            "Reversed string: htlaehruoysiwohdnagnioduoyerawoholleh\n"
          ]
        }
      ]
    },
    {
      "cell_type": "markdown",
      "source": [
        "2.Write a Python program to capitalize the first letter of each word in a sentence.\n",
        "\n",
        "input : hello welcome to internship"
      ],
      "metadata": {
        "id": "jEVFoo3evnhr"
      }
    },
    {
      "cell_type": "code",
      "source": [
        "input_string = \"hello welcome to internship\"\n",
        "capitalized_string = input_string.title()\n",
        "print(\"Capitalized string:\", capitalized_string)"
      ],
      "metadata": {
        "id": "CTP3QwiGwT93",
        "colab": {
          "base_uri": "https://localhost:8080/"
        },
        "outputId": "736f6406-522f-4169-88fa-27d8042aa300"
      },
      "execution_count": 3,
      "outputs": [
        {
          "output_type": "stream",
          "name": "stdout",
          "text": [
            "Capitalized string: Hello Welcome To Internship\n"
          ]
        }
      ]
    },
    {
      "cell_type": "markdown",
      "source": [
        "3.Write a Python program to find the longest word in a sentence.\n",
        "\n",
        "input : \"he is very good at painting and paint good sketches\""
      ],
      "metadata": {
        "id": "LiGvyCoVvnyC"
      }
    },
    {
      "cell_type": "code",
      "source": [
        "sentence = \"he is very good at painting and paint good sketches\"\n",
        "words = sentence.split()\n",
        "longest_word = max(words, key=len)\n",
        "print(\"Longest word:\", longest_word)"
      ],
      "metadata": {
        "id": "clATuC3cwwPI",
        "colab": {
          "base_uri": "https://localhost:8080/"
        },
        "outputId": "eb213b54-bd91-4cfe-ed83-079f14764123"
      },
      "execution_count": 4,
      "outputs": [
        {
          "output_type": "stream",
          "name": "stdout",
          "text": [
            "Longest word: painting\n"
          ]
        }
      ]
    },
    {
      "cell_type": "markdown",
      "source": [
        "4.Write a Python program to find the length of the last word in a sentence.\n",
        "\n",
        "input : this is the most beautiful beach I ever visited"
      ],
      "metadata": {
        "id": "-QhCplQjvn0w"
      }
    },
    {
      "cell_type": "code",
      "source": [
        "sentence = \"this is the most beautiful beach I ever visited\"\n",
        "words = sentence.split()\n",
        "length_of_last_word = len(words[-1])\n",
        "print(\"Length of the last word:\", length_of_last_word)"
      ],
      "metadata": {
        "id": "QwzbahlkxGZ-",
        "colab": {
          "base_uri": "https://localhost:8080/"
        },
        "outputId": "b91fc1cb-b67a-4829-af79-b42d7da1d117"
      },
      "execution_count": 5,
      "outputs": [
        {
          "output_type": "stream",
          "name": "stdout",
          "text": [
            "Length of the last word: 7\n"
          ]
        }
      ]
    },
    {
      "cell_type": "markdown",
      "source": [
        "5.Write a Python program to find the second most frequent character in a string.\n",
        "\n",
        "input: the hospital is very big and this hospital has so many doctors"
      ],
      "metadata": {
        "id": "cZiXxZhsvn6q"
      }
    },
    {
      "cell_type": "code",
      "source": [
        "from collections import Counter\n",
        "input_string = \"the hospital is very big and this hospital has so many doctors\"\n",
        "input_string = input_string.replace(\" \", \"\")\n",
        "char_count = Counter(input_string)\n",
        "sorted_chars = sorted(char_count.items(), key=lambda x: x[1], reverse=True)\n",
        "if len(sorted_chars) > 1:\n",
        "    second_most_frequent = sorted_chars[1][0]\n",
        "    frequency = sorted_chars[1][1]\n",
        "    print(f\"Second most frequent character: '{second_most_frequent}' with frequency {frequency}\")\n",
        "else:\n",
        "    print(\"Not enough distinct characters to determine the second most frequent.\")"
      ],
      "metadata": {
        "id": "EnHquuoCxi7F",
        "colab": {
          "base_uri": "https://localhost:8080/"
        },
        "outputId": "941cf0ef-551e-48f6-de92-8b4da8fcee8c"
      },
      "execution_count": 6,
      "outputs": [
        {
          "output_type": "stream",
          "name": "stdout",
          "text": [
            "Second most frequent character: 't' with frequency 5\n"
          ]
        }
      ]
    }
  ]
}